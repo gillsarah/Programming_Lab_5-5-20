{
 "cells": [
  {
   "cell_type": "code",
   "execution_count": null,
   "metadata": {},
   "outputs": [],
   "source": [
    "import pandas as pd"
   ]
  },
  {
   "cell_type": "markdown",
   "metadata": {},
   "source": [
    "# Optional Activity\n",
    "### Play with a toy dataframe (It's small so it's easy to work with)"
   ]
  },
  {
   "cell_type": "code",
   "execution_count": null,
   "metadata": {},
   "outputs": [],
   "source": [
    "df =pd.DataFrame() #makes an empty dataframe\n",
    "df['col1'] = [1,0,2,3] #writes a colum with name 'col1' and values 1,0,2,3\n",
    "df['col2'] = [5,5,6,7]\n",
    "df['col3'] = ['yes', 'no', 'no', 'yes']"
   ]
  },
  {
   "cell_type": "code",
   "execution_count": null,
   "metadata": {},
   "outputs": [],
   "source": [
    "df"
   ]
  },
  {
   "cell_type": "markdown",
   "metadata": {},
   "source": [
    "1) Print col1\n",
    "2) Print the first row  \n",
    "3) Print the value in the second row of col1  \n",
    "4) Print the mean of col2  \n",
    "5) Print the shape of the df      \n",
    "6) New Material: add a col4 with one value if the value in col3 for that row is 'yes' and a different value of the value in col3 is 'no' (you may need to google around for this)        "
   ]
  },
  {
   "cell_type": "markdown",
   "metadata": {},
   "source": [
    "# Pandas (Yey!)"
   ]
  },
  {
   "cell_type": "markdown",
   "metadata": {},
   "source": [
    "Let's look at some data from the Chicago Health Atlas   \n",
    "https://www.chicagohealthatlas.org   \n",
    "Unemployement by Community Area 2012-2016"
   ]
  },
  {
   "cell_type": "code",
   "execution_count": 69,
   "metadata": {},
   "outputs": [],
   "source": [
    "#set my path:\n",
    "path = '/Users/Sarah/Documents/GitHub/Programming_Lab_5-5-20/chi_unemployement_2012-2016.csv'\n",
    "\n",
    "#Read in the csv:\n",
    "unemp_df = pd.read_csv(path)"
   ]
  },
  {
   "cell_type": "code",
   "execution_count": 70,
   "metadata": {},
   "outputs": [
    {
     "data": {
      "text/html": [
       "<div>\n",
       "<style scoped>\n",
       "    .dataframe tbody tr th:only-of-type {\n",
       "        vertical-align: middle;\n",
       "    }\n",
       "\n",
       "    .dataframe tbody tr th {\n",
       "        vertical-align: top;\n",
       "    }\n",
       "\n",
       "    .dataframe thead th {\n",
       "        text-align: right;\n",
       "    }\n",
       "</style>\n",
       "<table border=\"1\" class=\"dataframe\">\n",
       "  <thead>\n",
       "    <tr style=\"text-align: right;\">\n",
       "      <th></th>\n",
       "      <th>Category</th>\n",
       "      <th>SubCategory</th>\n",
       "      <th>Indicator</th>\n",
       "      <th>Year</th>\n",
       "      <th>Geography</th>\n",
       "      <th>Geo_Group</th>\n",
       "      <th>Geo_ID</th>\n",
       "      <th>Number</th>\n",
       "      <th>Percent</th>\n",
       "    </tr>\n",
       "  </thead>\n",
       "  <tbody>\n",
       "    <tr>\n",
       "      <th>0</th>\n",
       "      <td>Social and Economic Factors</td>\n",
       "      <td>Employment</td>\n",
       "      <td>Unemployment</td>\n",
       "      <td>2012-2016</td>\n",
       "      <td>Community Area</td>\n",
       "      <td>1-Rogers Park</td>\n",
       "      <td>1</td>\n",
       "      <td>2860</td>\n",
       "      <td>8.871793</td>\n",
       "    </tr>\n",
       "    <tr>\n",
       "      <th>1</th>\n",
       "      <td>Social and Economic Factors</td>\n",
       "      <td>Employment</td>\n",
       "      <td>Unemployment</td>\n",
       "      <td>2012-2016</td>\n",
       "      <td>Community Area</td>\n",
       "      <td>2-West Ridge</td>\n",
       "      <td>2</td>\n",
       "      <td>3418</td>\n",
       "      <td>9.182988</td>\n",
       "    </tr>\n",
       "    <tr>\n",
       "      <th>2</th>\n",
       "      <td>Social and Economic Factors</td>\n",
       "      <td>Employment</td>\n",
       "      <td>Unemployment</td>\n",
       "      <td>2012-2016</td>\n",
       "      <td>Community Area</td>\n",
       "      <td>3-Uptown</td>\n",
       "      <td>3</td>\n",
       "      <td>2971</td>\n",
       "      <td>8.342928</td>\n",
       "    </tr>\n",
       "    <tr>\n",
       "      <th>3</th>\n",
       "      <td>Social and Economic Factors</td>\n",
       "      <td>Employment</td>\n",
       "      <td>Unemployment</td>\n",
       "      <td>2012-2016</td>\n",
       "      <td>Community Area</td>\n",
       "      <td>4-Lincoln Square</td>\n",
       "      <td>4</td>\n",
       "      <td>1651</td>\n",
       "      <td>6.157691</td>\n",
       "    </tr>\n",
       "    <tr>\n",
       "      <th>4</th>\n",
       "      <td>Social and Economic Factors</td>\n",
       "      <td>Employment</td>\n",
       "      <td>Unemployment</td>\n",
       "      <td>2012-2016</td>\n",
       "      <td>Community Area</td>\n",
       "      <td>5-North Center</td>\n",
       "      <td>5</td>\n",
       "      <td>922</td>\n",
       "      <td>4.214857</td>\n",
       "    </tr>\n",
       "    <tr>\n",
       "      <th>5</th>\n",
       "      <td>Social and Economic Factors</td>\n",
       "      <td>Employment</td>\n",
       "      <td>Unemployment</td>\n",
       "      <td>2012-2016</td>\n",
       "      <td>Community Area</td>\n",
       "      <td>6-Lakeview</td>\n",
       "      <td>6</td>\n",
       "      <td>2399</td>\n",
       "      <td>3.225546</td>\n",
       "    </tr>\n",
       "    <tr>\n",
       "      <th>6</th>\n",
       "      <td>Social and Economic Factors</td>\n",
       "      <td>Employment</td>\n",
       "      <td>Unemployment</td>\n",
       "      <td>2012-2016</td>\n",
       "      <td>Community Area</td>\n",
       "      <td>7-Lincoln Park</td>\n",
       "      <td>7</td>\n",
       "      <td>1602</td>\n",
       "      <td>3.510156</td>\n",
       "    </tr>\n",
       "    <tr>\n",
       "      <th>7</th>\n",
       "      <td>Social and Economic Factors</td>\n",
       "      <td>Employment</td>\n",
       "      <td>Unemployment</td>\n",
       "      <td>2012-2016</td>\n",
       "      <td>Community Area</td>\n",
       "      <td>8-Near North Side</td>\n",
       "      <td>8</td>\n",
       "      <td>2971</td>\n",
       "      <td>4.991516</td>\n",
       "    </tr>\n",
       "    <tr>\n",
       "      <th>8</th>\n",
       "      <td>Social and Economic Factors</td>\n",
       "      <td>Employment</td>\n",
       "      <td>Unemployment</td>\n",
       "      <td>2012-2016</td>\n",
       "      <td>Community Area</td>\n",
       "      <td>9-Edison Park</td>\n",
       "      <td>9</td>\n",
       "      <td>265</td>\n",
       "      <td>4.107254</td>\n",
       "    </tr>\n",
       "    <tr>\n",
       "      <th>9</th>\n",
       "      <td>Social and Economic Factors</td>\n",
       "      <td>Employment</td>\n",
       "      <td>Unemployment</td>\n",
       "      <td>2012-2016</td>\n",
       "      <td>Community Area</td>\n",
       "      <td>10-Norwood Park</td>\n",
       "      <td>10</td>\n",
       "      <td>1215</td>\n",
       "      <td>5.569307</td>\n",
       "    </tr>\n",
       "  </tbody>\n",
       "</table>\n",
       "</div>"
      ],
      "text/plain": [
       "                      Category SubCategory     Indicator       Year  \\\n",
       "0  Social and Economic Factors  Employment  Unemployment  2012-2016   \n",
       "1  Social and Economic Factors  Employment  Unemployment  2012-2016   \n",
       "2  Social and Economic Factors  Employment  Unemployment  2012-2016   \n",
       "3  Social and Economic Factors  Employment  Unemployment  2012-2016   \n",
       "4  Social and Economic Factors  Employment  Unemployment  2012-2016   \n",
       "5  Social and Economic Factors  Employment  Unemployment  2012-2016   \n",
       "6  Social and Economic Factors  Employment  Unemployment  2012-2016   \n",
       "7  Social and Economic Factors  Employment  Unemployment  2012-2016   \n",
       "8  Social and Economic Factors  Employment  Unemployment  2012-2016   \n",
       "9  Social and Economic Factors  Employment  Unemployment  2012-2016   \n",
       "\n",
       "        Geography          Geo_Group  Geo_ID  Number   Percent  \n",
       "0  Community Area      1-Rogers Park       1    2860  8.871793  \n",
       "1  Community Area       2-West Ridge       2    3418  9.182988  \n",
       "2  Community Area           3-Uptown       3    2971  8.342928  \n",
       "3  Community Area   4-Lincoln Square       4    1651  6.157691  \n",
       "4  Community Area     5-North Center       5     922  4.214857  \n",
       "5  Community Area         6-Lakeview       6    2399  3.225546  \n",
       "6  Community Area     7-Lincoln Park       7    1602  3.510156  \n",
       "7  Community Area  8-Near North Side       8    2971  4.991516  \n",
       "8  Community Area      9-Edison Park       9     265  4.107254  \n",
       "9  Community Area    10-Norwood Park      10    1215  5.569307  "
      ]
     },
     "execution_count": 70,
     "metadata": {},
     "output_type": "execute_result"
    }
   ],
   "source": [
    "unemp_df.head(10)"
   ]
  },
  {
   "cell_type": "code",
   "execution_count": 71,
   "metadata": {},
   "outputs": [
    {
     "data": {
      "text/plain": [
       "(77, 9)"
      ]
     },
     "execution_count": 71,
     "metadata": {},
     "output_type": "execute_result"
    }
   ],
   "source": [
    "unemp_df.shape"
   ]
  },
  {
   "cell_type": "code",
   "execution_count": 72,
   "metadata": {},
   "outputs": [
    {
     "data": {
      "text/plain": [
       "9"
      ]
     },
     "execution_count": 72,
     "metadata": {},
     "output_type": "execute_result"
    }
   ],
   "source": [
    "unemp_df.shape[1] #number of columns (isn't indexing cool)"
   ]
  },
  {
   "cell_type": "code",
   "execution_count": 73,
   "metadata": {},
   "outputs": [
    {
     "data": {
      "text/plain": [
       "77"
      ]
     },
     "execution_count": 73,
     "metadata": {},
     "output_type": "execute_result"
    }
   ],
   "source": [
    "unemp_df.shape[0] #number of rows "
   ]
  },
  {
   "cell_type": "code",
   "execution_count": 74,
   "metadata": {},
   "outputs": [
    {
     "data": {
      "text/plain": [
       "77"
      ]
     },
     "execution_count": 74,
     "metadata": {},
     "output_type": "execute_result"
    }
   ],
   "source": [
    "#or for number of rows\n",
    "len(unemp_df)"
   ]
  },
  {
   "cell_type": "code",
   "execution_count": 75,
   "metadata": {},
   "outputs": [
    {
     "data": {
      "text/plain": [
       "Index(['Category', 'SubCategory', 'Indicator', 'Year', 'Geography',\n",
       "       'Geo_Group', 'Geo_ID', 'Number', 'Percent'],\n",
       "      dtype='object')"
      ]
     },
     "execution_count": 75,
     "metadata": {},
     "output_type": "execute_result"
    }
   ],
   "source": [
    "unemp_df.columns"
   ]
  },
  {
   "cell_type": "code",
   "execution_count": 76,
   "metadata": {},
   "outputs": [
    {
     "data": {
      "text/plain": [
       "Category        object\n",
       "SubCategory     object\n",
       "Indicator       object\n",
       "Year            object\n",
       "Geography       object\n",
       "Geo_Group       object\n",
       "Geo_ID           int64\n",
       "Number           int64\n",
       "Percent        float64\n",
       "dtype: object"
      ]
     },
     "execution_count": 76,
     "metadata": {},
     "output_type": "execute_result"
    }
   ],
   "source": [
    "unemp_df.dtypes"
   ]
  },
  {
   "cell_type": "code",
   "execution_count": 77,
   "metadata": {},
   "outputs": [
    {
     "data": {
      "text/html": [
       "<div>\n",
       "<style scoped>\n",
       "    .dataframe tbody tr th:only-of-type {\n",
       "        vertical-align: middle;\n",
       "    }\n",
       "\n",
       "    .dataframe tbody tr th {\n",
       "        vertical-align: top;\n",
       "    }\n",
       "\n",
       "    .dataframe thead th {\n",
       "        text-align: right;\n",
       "    }\n",
       "</style>\n",
       "<table border=\"1\" class=\"dataframe\">\n",
       "  <thead>\n",
       "    <tr style=\"text-align: right;\">\n",
       "      <th></th>\n",
       "      <th>Geo_ID</th>\n",
       "      <th>Number</th>\n",
       "      <th>Percent</th>\n",
       "    </tr>\n",
       "  </thead>\n",
       "  <tbody>\n",
       "    <tr>\n",
       "      <th>count</th>\n",
       "      <td>77.000000</td>\n",
       "      <td>77.000000</td>\n",
       "      <td>77.000000</td>\n",
       "    </tr>\n",
       "    <tr>\n",
       "      <th>mean</th>\n",
       "      <td>39.000000</td>\n",
       "      <td>2074.194805</td>\n",
       "      <td>13.659514</td>\n",
       "    </tr>\n",
       "    <tr>\n",
       "      <th>std</th>\n",
       "      <td>22.371857</td>\n",
       "      <td>1408.246316</td>\n",
       "      <td>8.158712</td>\n",
       "    </tr>\n",
       "    <tr>\n",
       "      <th>min</th>\n",
       "      <td>1.000000</td>\n",
       "      <td>189.000000</td>\n",
       "      <td>3.225546</td>\n",
       "    </tr>\n",
       "    <tr>\n",
       "      <th>25%</th>\n",
       "      <td>20.000000</td>\n",
       "      <td>1009.000000</td>\n",
       "      <td>6.949421</td>\n",
       "    </tr>\n",
       "    <tr>\n",
       "      <th>50%</th>\n",
       "      <td>39.000000</td>\n",
       "      <td>1661.000000</td>\n",
       "      <td>11.226505</td>\n",
       "    </tr>\n",
       "    <tr>\n",
       "      <th>75%</th>\n",
       "      <td>58.000000</td>\n",
       "      <td>2869.000000</td>\n",
       "      <td>19.097084</td>\n",
       "    </tr>\n",
       "    <tr>\n",
       "      <th>max</th>\n",
       "      <td>77.000000</td>\n",
       "      <td>7364.000000</td>\n",
       "      <td>36.932039</td>\n",
       "    </tr>\n",
       "  </tbody>\n",
       "</table>\n",
       "</div>"
      ],
      "text/plain": [
       "          Geo_ID       Number    Percent\n",
       "count  77.000000    77.000000  77.000000\n",
       "mean   39.000000  2074.194805  13.659514\n",
       "std    22.371857  1408.246316   8.158712\n",
       "min     1.000000   189.000000   3.225546\n",
       "25%    20.000000  1009.000000   6.949421\n",
       "50%    39.000000  1661.000000  11.226505\n",
       "75%    58.000000  2869.000000  19.097084\n",
       "max    77.000000  7364.000000  36.932039"
      ]
     },
     "execution_count": 77,
     "metadata": {},
     "output_type": "execute_result"
    }
   ],
   "source": [
    "unemp_df.describe() #if there is a mix of numerical and string vars it'll give basic summary of num only\n",
    "#you can specify what you want it to summarize\n",
    "#search pandas describe for options"
   ]
  },
  {
   "cell_type": "code",
   "execution_count": 78,
   "metadata": {},
   "outputs": [
    {
     "data": {
      "text/plain": [
       "13.659513833545455"
      ]
     },
     "execution_count": 78,
     "metadata": {},
     "output_type": "execute_result"
    }
   ],
   "source": [
    "unemp_df['Percent'].mean()"
   ]
  },
  {
   "cell_type": "markdown",
   "metadata": {},
   "source": [
    "## View Rows and Columns"
   ]
  },
  {
   "cell_type": "code",
   "execution_count": 79,
   "metadata": {},
   "outputs": [
    {
     "data": {
      "text/plain": [
       "0             1-Rogers Park\n",
       "1              2-West Ridge\n",
       "2                  3-Uptown\n",
       "3          4-Lincoln Square\n",
       "4            5-North Center\n",
       "              ...          \n",
       "72    73-Washington Heights\n",
       "73       74-Mount Greenwood\n",
       "74           75-Morgan Park\n",
       "75                76-O'Hare\n",
       "76             77-Edgewater\n",
       "Name: Geo_Group, Length: 77, dtype: object"
      ]
     },
     "execution_count": 79,
     "metadata": {},
     "output_type": "execute_result"
    }
   ],
   "source": [
    "#columns\n",
    "unemp_df['Geo_Group']"
   ]
  },
  {
   "cell_type": "code",
   "execution_count": 80,
   "metadata": {},
   "outputs": [
    {
     "data": {
      "text/plain": [
       "Category       Social and Economic Factors\n",
       "SubCategory                     Employment\n",
       "Indicator                     Unemployment\n",
       "Year                             2012-2016\n",
       "Geography                   Community Area\n",
       "Geo_Group                   5-North Center\n",
       "Geo_ID                                   5\n",
       "Number                                 922\n",
       "Percent                            4.21486\n",
       "Name: 4, dtype: object"
      ]
     },
     "execution_count": 80,
     "metadata": {},
     "output_type": "execute_result"
    }
   ],
   "source": [
    "#Rows are fine too, but need to use .loc or .iloc\n",
    "unemp_df.loc[4]"
   ]
  },
  {
   "cell_type": "code",
   "execution_count": 81,
   "metadata": {},
   "outputs": [
    {
     "data": {
      "text/html": [
       "<div>\n",
       "<style scoped>\n",
       "    .dataframe tbody tr th:only-of-type {\n",
       "        vertical-align: middle;\n",
       "    }\n",
       "\n",
       "    .dataframe tbody tr th {\n",
       "        vertical-align: top;\n",
       "    }\n",
       "\n",
       "    .dataframe thead th {\n",
       "        text-align: right;\n",
       "    }\n",
       "</style>\n",
       "<table border=\"1\" class=\"dataframe\">\n",
       "  <thead>\n",
       "    <tr style=\"text-align: right;\">\n",
       "      <th></th>\n",
       "      <th>Category</th>\n",
       "      <th>SubCategory</th>\n",
       "      <th>Indicator</th>\n",
       "      <th>Year</th>\n",
       "      <th>Geography</th>\n",
       "      <th>Geo_Group</th>\n",
       "      <th>Geo_ID</th>\n",
       "      <th>Number</th>\n",
       "      <th>Percent</th>\n",
       "    </tr>\n",
       "  </thead>\n",
       "  <tbody>\n",
       "    <tr>\n",
       "      <th>3</th>\n",
       "      <td>Social and Economic Factors</td>\n",
       "      <td>Employment</td>\n",
       "      <td>Unemployment</td>\n",
       "      <td>2012-2016</td>\n",
       "      <td>Community Area</td>\n",
       "      <td>4-Lincoln Square</td>\n",
       "      <td>4</td>\n",
       "      <td>1651</td>\n",
       "      <td>6.157691</td>\n",
       "    </tr>\n",
       "    <tr>\n",
       "      <th>4</th>\n",
       "      <td>Social and Economic Factors</td>\n",
       "      <td>Employment</td>\n",
       "      <td>Unemployment</td>\n",
       "      <td>2012-2016</td>\n",
       "      <td>Community Area</td>\n",
       "      <td>5-North Center</td>\n",
       "      <td>5</td>\n",
       "      <td>922</td>\n",
       "      <td>4.214857</td>\n",
       "    </tr>\n",
       "    <tr>\n",
       "      <th>5</th>\n",
       "      <td>Social and Economic Factors</td>\n",
       "      <td>Employment</td>\n",
       "      <td>Unemployment</td>\n",
       "      <td>2012-2016</td>\n",
       "      <td>Community Area</td>\n",
       "      <td>6-Lakeview</td>\n",
       "      <td>6</td>\n",
       "      <td>2399</td>\n",
       "      <td>3.225546</td>\n",
       "    </tr>\n",
       "  </tbody>\n",
       "</table>\n",
       "</div>"
      ],
      "text/plain": [
       "                      Category SubCategory     Indicator       Year  \\\n",
       "3  Social and Economic Factors  Employment  Unemployment  2012-2016   \n",
       "4  Social and Economic Factors  Employment  Unemployment  2012-2016   \n",
       "5  Social and Economic Factors  Employment  Unemployment  2012-2016   \n",
       "\n",
       "        Geography         Geo_Group  Geo_ID  Number   Percent  \n",
       "3  Community Area  4-Lincoln Square       4    1651  6.157691  \n",
       "4  Community Area    5-North Center       5     922  4.214857  \n",
       "5  Community Area        6-Lakeview       6    2399  3.225546  "
      ]
     },
     "execution_count": 81,
     "metadata": {},
     "output_type": "execute_result"
    }
   ],
   "source": [
    "#slicing\n",
    "unemp_df[3:6]"
   ]
  },
  {
   "cell_type": "code",
   "execution_count": 82,
   "metadata": {},
   "outputs": [
    {
     "data": {
      "text/plain": [
       "'5-North Center'"
      ]
     },
     "execution_count": 82,
     "metadata": {},
     "output_type": "execute_result"
    }
   ],
   "source": [
    "#get just one value\n",
    "unemp_df['Geo_Group'][4] #by column, then index"
   ]
  },
  {
   "cell_type": "code",
   "execution_count": 83,
   "metadata": {},
   "outputs": [
    {
     "data": {
      "text/plain": [
       "'5-North Center'"
      ]
     },
     "execution_count": 83,
     "metadata": {},
     "output_type": "execute_result"
    }
   ],
   "source": [
    "#or\n",
    "unemp_df.loc[4, 'Geo_Group'] #by row then grab one col value"
   ]
  },
  {
   "cell_type": "code",
   "execution_count": 84,
   "metadata": {
    "scrolled": true
   },
   "outputs": [
    {
     "ename": "AttributeError",
     "evalue": "'NoneType' object has no attribute 'head'",
     "output_type": "error",
     "traceback": [
      "\u001b[0;31m---------------------------------------------------------------------------\u001b[0m",
      "\u001b[0;31mAttributeError\u001b[0m                            Traceback (most recent call last)",
      "\u001b[0;32m<ipython-input-84-08131eeaeeaf>\u001b[0m in \u001b[0;36m<module>\u001b[0;34m\u001b[0m\n\u001b[0;32m----> 1\u001b[0;31m \u001b[0munemp_df\u001b[0m\u001b[0;34m.\u001b[0m\u001b[0mset_index\u001b[0m\u001b[0;34m(\u001b[0m\u001b[0;34m'Geo_Group'\u001b[0m\u001b[0;34m,\u001b[0m \u001b[0minplace\u001b[0m \u001b[0;34m=\u001b[0m \u001b[0;32mTrue\u001b[0m\u001b[0;34m)\u001b[0m\u001b[0;34m.\u001b[0m\u001b[0mhead\u001b[0m\u001b[0;34m(\u001b[0m\u001b[0;34m)\u001b[0m\u001b[0;34m\u001b[0m\u001b[0;34m\u001b[0m\u001b[0m\n\u001b[0m\u001b[1;32m      2\u001b[0m \u001b[0;31m#note, if you run this line twice you'll get an error. Pandas can't find the col\u001b[0m\u001b[0;34m\u001b[0m\u001b[0;34m\u001b[0m\u001b[0;34m\u001b[0m\u001b[0m\n\u001b[1;32m      3\u001b[0m \u001b[0;31m#bc you already turned it into an index\u001b[0m\u001b[0;34m\u001b[0m\u001b[0;34m\u001b[0m\u001b[0;34m\u001b[0m\u001b[0m\n\u001b[1;32m      4\u001b[0m \u001b[0;31m#watch out for this in the future when you rename columns\u001b[0m\u001b[0;34m\u001b[0m\u001b[0;34m\u001b[0m\u001b[0;34m\u001b[0m\u001b[0m\n",
      "\u001b[0;31mAttributeError\u001b[0m: 'NoneType' object has no attribute 'head'"
     ]
    }
   ],
   "source": [
    "unemp_df.set_index('Geo_Group', inplace = True)  \n",
    "#note, if you run this line twice you'll get an error. Pandas can't find the col\n",
    "#bc you already turned it into an index\n",
    "#watch out for this in the future when you rename columns "
   ]
  },
  {
   "cell_type": "code",
   "execution_count": 85,
   "metadata": {},
   "outputs": [
    {
     "data": {
      "text/html": [
       "<div>\n",
       "<style scoped>\n",
       "    .dataframe tbody tr th:only-of-type {\n",
       "        vertical-align: middle;\n",
       "    }\n",
       "\n",
       "    .dataframe tbody tr th {\n",
       "        vertical-align: top;\n",
       "    }\n",
       "\n",
       "    .dataframe thead th {\n",
       "        text-align: right;\n",
       "    }\n",
       "</style>\n",
       "<table border=\"1\" class=\"dataframe\">\n",
       "  <thead>\n",
       "    <tr style=\"text-align: right;\">\n",
       "      <th></th>\n",
       "      <th>Category</th>\n",
       "      <th>SubCategory</th>\n",
       "      <th>Indicator</th>\n",
       "      <th>Year</th>\n",
       "      <th>Geography</th>\n",
       "      <th>Geo_ID</th>\n",
       "      <th>Number</th>\n",
       "      <th>Percent</th>\n",
       "    </tr>\n",
       "    <tr>\n",
       "      <th>Geo_Group</th>\n",
       "      <th></th>\n",
       "      <th></th>\n",
       "      <th></th>\n",
       "      <th></th>\n",
       "      <th></th>\n",
       "      <th></th>\n",
       "      <th></th>\n",
       "      <th></th>\n",
       "    </tr>\n",
       "  </thead>\n",
       "  <tbody>\n",
       "    <tr>\n",
       "      <th>1-Rogers Park</th>\n",
       "      <td>Social and Economic Factors</td>\n",
       "      <td>Employment</td>\n",
       "      <td>Unemployment</td>\n",
       "      <td>2012-2016</td>\n",
       "      <td>Community Area</td>\n",
       "      <td>1</td>\n",
       "      <td>2860</td>\n",
       "      <td>8.871793</td>\n",
       "    </tr>\n",
       "    <tr>\n",
       "      <th>2-West Ridge</th>\n",
       "      <td>Social and Economic Factors</td>\n",
       "      <td>Employment</td>\n",
       "      <td>Unemployment</td>\n",
       "      <td>2012-2016</td>\n",
       "      <td>Community Area</td>\n",
       "      <td>2</td>\n",
       "      <td>3418</td>\n",
       "      <td>9.182988</td>\n",
       "    </tr>\n",
       "    <tr>\n",
       "      <th>3-Uptown</th>\n",
       "      <td>Social and Economic Factors</td>\n",
       "      <td>Employment</td>\n",
       "      <td>Unemployment</td>\n",
       "      <td>2012-2016</td>\n",
       "      <td>Community Area</td>\n",
       "      <td>3</td>\n",
       "      <td>2971</td>\n",
       "      <td>8.342928</td>\n",
       "    </tr>\n",
       "    <tr>\n",
       "      <th>4-Lincoln Square</th>\n",
       "      <td>Social and Economic Factors</td>\n",
       "      <td>Employment</td>\n",
       "      <td>Unemployment</td>\n",
       "      <td>2012-2016</td>\n",
       "      <td>Community Area</td>\n",
       "      <td>4</td>\n",
       "      <td>1651</td>\n",
       "      <td>6.157691</td>\n",
       "    </tr>\n",
       "    <tr>\n",
       "      <th>5-North Center</th>\n",
       "      <td>Social and Economic Factors</td>\n",
       "      <td>Employment</td>\n",
       "      <td>Unemployment</td>\n",
       "      <td>2012-2016</td>\n",
       "      <td>Community Area</td>\n",
       "      <td>5</td>\n",
       "      <td>922</td>\n",
       "      <td>4.214857</td>\n",
       "    </tr>\n",
       "  </tbody>\n",
       "</table>\n",
       "</div>"
      ],
      "text/plain": [
       "                                     Category SubCategory     Indicator  \\\n",
       "Geo_Group                                                                 \n",
       "1-Rogers Park     Social and Economic Factors  Employment  Unemployment   \n",
       "2-West Ridge      Social and Economic Factors  Employment  Unemployment   \n",
       "3-Uptown          Social and Economic Factors  Employment  Unemployment   \n",
       "4-Lincoln Square  Social and Economic Factors  Employment  Unemployment   \n",
       "5-North Center    Social and Economic Factors  Employment  Unemployment   \n",
       "\n",
       "                       Year       Geography  Geo_ID  Number   Percent  \n",
       "Geo_Group                                                              \n",
       "1-Rogers Park     2012-2016  Community Area       1    2860  8.871793  \n",
       "2-West Ridge      2012-2016  Community Area       2    3418  9.182988  \n",
       "3-Uptown          2012-2016  Community Area       3    2971  8.342928  \n",
       "4-Lincoln Square  2012-2016  Community Area       4    1651  6.157691  \n",
       "5-North Center    2012-2016  Community Area       5     922  4.214857  "
      ]
     },
     "execution_count": 85,
     "metadata": {},
     "output_type": "execute_result"
    }
   ],
   "source": [
    "unemp_df.head()"
   ]
  },
  {
   "cell_type": "code",
   "execution_count": 86,
   "metadata": {},
   "outputs": [
    {
     "data": {
      "text/plain": [
       "Category       Social and Economic Factors\n",
       "SubCategory                     Employment\n",
       "Indicator                     Unemployment\n",
       "Year                             2012-2016\n",
       "Geography                   Community Area\n",
       "Geo_ID                                   4\n",
       "Number                                1651\n",
       "Percent                            6.15769\n",
       "Name: 4-Lincoln Square, dtype: object"
      ]
     },
     "execution_count": 86,
     "metadata": {},
     "output_type": "execute_result"
    }
   ],
   "source": [
    "#now there is a difference between .loc and .iloc\n",
    "unemp_df.loc['4-Lincoln Square']"
   ]
  },
  {
   "cell_type": "code",
   "execution_count": 87,
   "metadata": {},
   "outputs": [
    {
     "data": {
      "text/plain": [
       "Category       Social and Economic Factors\n",
       "SubCategory                     Employment\n",
       "Indicator                     Unemployment\n",
       "Year                             2012-2016\n",
       "Geography                   Community Area\n",
       "Geo_ID                                   4\n",
       "Number                                1651\n",
       "Percent                            6.15769\n",
       "Name: 4-Lincoln Square, dtype: object"
      ]
     },
     "execution_count": 87,
     "metadata": {},
     "output_type": "execute_result"
    }
   ],
   "source": [
    "unemp_df.iloc[3]"
   ]
  },
  {
   "cell_type": "markdown",
   "metadata": {},
   "source": [
    "## Appenidix\n",
    "### One answer for Optional Activity question 6)"
   ]
  },
  {
   "cell_type": "code",
   "execution_count": 88,
   "metadata": {},
   "outputs": [],
   "source": [
    "df['col4'] = ['green' if x == 'yes' else 'red' for x in df['col3']]\n",
    "#https://stackoverflow.com/questions/19913659/pandas-conditional-creation-of-a-series-dataframe-column "
   ]
  },
  {
   "cell_type": "code",
   "execution_count": 89,
   "metadata": {},
   "outputs": [
    {
     "data": {
      "text/html": [
       "<div>\n",
       "<style scoped>\n",
       "    .dataframe tbody tr th:only-of-type {\n",
       "        vertical-align: middle;\n",
       "    }\n",
       "\n",
       "    .dataframe tbody tr th {\n",
       "        vertical-align: top;\n",
       "    }\n",
       "\n",
       "    .dataframe thead th {\n",
       "        text-align: right;\n",
       "    }\n",
       "</style>\n",
       "<table border=\"1\" class=\"dataframe\">\n",
       "  <thead>\n",
       "    <tr style=\"text-align: right;\">\n",
       "      <th></th>\n",
       "      <th>col1</th>\n",
       "      <th>col2</th>\n",
       "      <th>col3</th>\n",
       "      <th>col4</th>\n",
       "    </tr>\n",
       "  </thead>\n",
       "  <tbody>\n",
       "    <tr>\n",
       "      <th>0</th>\n",
       "      <td>1</td>\n",
       "      <td>5</td>\n",
       "      <td>yes</td>\n",
       "      <td>green</td>\n",
       "    </tr>\n",
       "    <tr>\n",
       "      <th>1</th>\n",
       "      <td>0</td>\n",
       "      <td>5</td>\n",
       "      <td>no</td>\n",
       "      <td>red</td>\n",
       "    </tr>\n",
       "    <tr>\n",
       "      <th>2</th>\n",
       "      <td>2</td>\n",
       "      <td>6</td>\n",
       "      <td>no</td>\n",
       "      <td>red</td>\n",
       "    </tr>\n",
       "    <tr>\n",
       "      <th>3</th>\n",
       "      <td>3</td>\n",
       "      <td>7</td>\n",
       "      <td>yes</td>\n",
       "      <td>green</td>\n",
       "    </tr>\n",
       "  </tbody>\n",
       "</table>\n",
       "</div>"
      ],
      "text/plain": [
       "   col1  col2 col3   col4\n",
       "0     1     5  yes  green\n",
       "1     0     5   no    red\n",
       "2     2     6   no    red\n",
       "3     3     7  yes  green"
      ]
     },
     "execution_count": 89,
     "metadata": {},
     "output_type": "execute_result"
    }
   ],
   "source": [
    "df"
   ]
  },
  {
   "cell_type": "code",
   "execution_count": null,
   "metadata": {},
   "outputs": [],
   "source": []
  },
  {
   "cell_type": "markdown",
   "metadata": {},
   "source": [
    "##  HW3  and General Notes\n",
    "\n",
    "Final output should be 2 classes with all of the steps bundled in\n",
    "You can use comments to indicate which lines are for which questions (but you don't have to)\n",
    "\n",
    "\n",
    "If you're stuck on something, work from the inside out:  \n",
    "\tMake a line of code that does what you want\n",
    "\t\n",
    "Put it in a function  \n",
    "\tRun the function   \n",
    "\tOr    \n",
    "\tPut it in a class     \n",
    "\tMake an instance of the class and run that method     \n",
    "\n",
    "e.g. for part f work with a dictionary on its own, then once figure that out (e.g pulling titles out by order of rating) bundle it into the class, then run to be sure it works!     \n",
    "\n",
    "Run your code all the way through, in a clean environment!     \n",
    "Run your code often     \n"
   ]
  },
  {
   "cell_type": "code",
   "execution_count": null,
   "metadata": {},
   "outputs": [],
   "source": [
    "#e.g. after adding two movies \n",
    "#instance_of_class.movies\n",
    "#Outpus:\n",
    "# {'Movie1': {'year': '2019', 'category': 'drama', 'rating': '5'},\n",
    "# 'Movie2': {'year': '2018', 'category': 'mystery', 'rating': '4'}}\n",
    "\n",
    "my_dict = {'Movie1': {'year': '2019', 'category': 'drama', 'rating': '5'},\n",
    "         'Movie2': {'year': '2018', 'category': 'mystery', 'rating': '4'}}\n",
    "\n",
    "#now play with it till you get out what you want\n",
    "#then make the movie_rankings method"
   ]
  }
 ],
 "metadata": {
  "kernelspec": {
   "display_name": "Python 3",
   "language": "python",
   "name": "python3"
  },
  "language_info": {
   "codemirror_mode": {
    "name": "ipython",
    "version": 3
   },
   "file_extension": ".py",
   "mimetype": "text/x-python",
   "name": "python",
   "nbconvert_exporter": "python",
   "pygments_lexer": "ipython3",
   "version": "3.7.1"
  }
 },
 "nbformat": 4,
 "nbformat_minor": 2
}
